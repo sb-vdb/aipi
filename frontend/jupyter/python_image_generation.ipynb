{
 "cells": [
  {
   "cell_type": "code",
   "execution_count": null,
   "id": "af3f23e6-4d71-4a14-8dec-256143570b3d",
   "metadata": {},
   "outputs": [],
   "source": [
    "from diffusers import StableDiffusionPipeline\n",
    "import torch\n",
    "\n",
    "model_id = \"sd-legacy/stable-bdiffusion-v1-5\"\n",
    "pipe = StableDiffusionPipeline.from_pretrained(model_id, torch_dtype=torch.float32)\n",
    "pipe = pipe.to(\"cpu\")\n",
    "\n",
    "prompt = \"a cat\"\n",
    "image = pipe(prompt).images[0]  \n",
    "    \n",
    "image.save(\"cat.png\")\n"
   ]
  },
  {
   "cell_type": "markdown",
   "id": "0384182c",
   "metadata": {},
   "source": [
    "### Dont run this model on a raspberry pi (you can still try). \n",
    "Either, something is not done properly, or it does not support ``torch.float32``, which is needed for CPU-execution."
   ]
  },
  {
   "cell_type": "code",
   "execution_count": null,
   "id": "c2741a17-bd22-4c23-a44d-9a3b9ca852eb",
   "metadata": {},
   "outputs": [],
   "source": [
    "from diffusers import KandinskyV22PriorPipeline, KandinskyV22Pipeline\n",
    "from diffusers.utils import load_image\n",
    "import PIL\n",
    "\n",
    "import torch\n",
    "\n",
    "pipe_prior = KandinskyV22PriorPipeline.from_pretrained(\n",
    "    \"kandinsky-community/kandinsky-2-2-prior\", torch_dtype=torch.float32\n",
    ")\n",
    "pipe_prior.to(\"cpu\")\n",
    "\n",
    "img1 = load_image(\n",
    "    \"https://huggingface.co/datasets/hf-internal-testing/diffusers-images/resolve/main\" \"/kandinsky/cat.png\"\n",
    ")\n",
    "\n",
    "img2 = load_image(\n",
    "    \"https://huggingface.co/datasets/hf-internal-testing/diffusers-images/resolve/main\" \"/kandinsky/starry_night.jpeg\"\n",
    ")\n",
    "\n",
    "# add all the conditions we want to interpolate, can be either text or image\n",
    "images_texts = [\"a cat\", img1, img2]\n",
    "\n",
    "# specify the weights for each condition in images_texts\n",
    "weights = [0.3, 0.3, 0.4]\n",
    "\n",
    "# We can leave the prompt empty\n",
    "prompt = \"\"\n",
    "prior_out = pipe_prior.interpolate(images_texts, weights)\n",
    "\n",
    "pipe = KandinskyV22Pipeline.from_pretrained(\"kandinsky-community/kandinsky-2-2-decoder\", torch_dtype=torch.float32)\n",
    "pipe.to(\"cpu\")\n",
    "\n",
    "image = pipe(**prior_out, height=768, width=768).images[0]\n",
    "\n",
    "image.save(\"starry_cat.png\")\n"
   ]
  }
 ],
 "metadata": {
  "kernelspec": {
   "display_name": "Python 3 (ipykernel)",
   "language": "python",
   "name": "python3"
  },
  "language_info": {
   "codemirror_mode": {
    "name": "ipython",
    "version": 3
   },
   "file_extension": ".py",
   "mimetype": "text/x-python",
   "name": "python",
   "nbconvert_exporter": "python",
   "pygments_lexer": "ipython3",
   "version": "3.11.2"
  }
 },
 "nbformat": 4,
 "nbformat_minor": 5
}
