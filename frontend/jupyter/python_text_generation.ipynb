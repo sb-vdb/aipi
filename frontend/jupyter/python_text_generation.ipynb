{
 "cells": [
  {
   "cell_type": "markdown",
   "id": "590f74e8-13fe-4313-a8e2-a6eab111d2f4",
   "metadata": {},
   "source": [
    "### LläMmlein 1B\n",
    "\n",
    "https://huggingface.co/LSX-UniWue/LLaMmlein_1B_chat_all\n",
    "\n",
    "Provide prompts in `message` variable to the `content` key. Use prompts where you expect short answers, slow as hell"
   ]
  },
  {
   "cell_type": "code",
   "execution_count": null,
   "id": "633dbbe9-d286-4877-b204-8f6aabb5bc6d",
   "metadata": {},
   "outputs": [],
   "source": [
    "import torch\n",
    "from peft import PeftConfig, PeftModel\n",
    "from transformers import AutoModelForCausalLM, AutoTokenizer\n",
    "\n",
    "torch.manual_seed(42)\n",
    "\n",
    "# script config\n",
    "base_model_name = \"LSX-UniWue/LLaMmlein_1B\"\n",
    "chat_adapter_name = \"LSX-UniWue/LLaMmlein_1B_chat_all\"\n",
    "device = \"cpu\"  # or mps\n",
    "\n",
    "# chat history\n",
    "messages = [\n",
    "    {\n",
    "        \"role\": \"user\",\n",
    "        \"content\": \"\"\"In welchem Jahr und wo ist Friedrich Schiller geboren?\"\"\",\n",
    "    },\n",
    "]\n",
    "\n",
    "# load model\n",
    "config = PeftConfig.from_pretrained(chat_adapter_name)\n",
    "base_model = model = AutoModelForCausalLM.from_pretrained(\n",
    "    base_model_name,\n",
    "    torch_dtype=torch.float32,\n",
    "    device_map=device,\n",
    ")\n",
    "base_model.resize_token_embeddings(32064)\n",
    "model = PeftModel.from_pretrained(base_model, chat_adapter_name)\n",
    "tokenizer = AutoTokenizer.from_pretrained(chat_adapter_name)\n",
    "\n",
    "# encode message in \"ChatML\" format\n",
    "chat = tokenizer.apply_chat_template(\n",
    "    messages,\n",
    "    return_tensors=\"pt\",\n",
    "    add_generation_prompt=True,\n",
    ").to(device)\n",
    "\n",
    "# generate response\n",
    "print(\n",
    "    tokenizer.decode(\n",
    "        model.generate(\n",
    "            chat,\n",
    "            max_new_tokens=300,\n",
    "            pad_token_id=tokenizer.pad_token_id,\n",
    "            eos_token_id=tokenizer.eos_token_id,\n",
    "        )[0],\n",
    "        skip_special_tokens=False,\n",
    "    )\n",
    ")\n"
   ]
  }
 ],
 "metadata": {
  "kernelspec": {
   "display_name": "Python 3 (ipykernel)",
   "language": "python",
   "name": "python3"
  },
  "language_info": {
   "codemirror_mode": {
    "name": "ipython",
    "version": 3
   },
   "file_extension": ".py",
   "mimetype": "text/x-python",
   "name": "python",
   "nbconvert_exporter": "python",
   "pygments_lexer": "ipython3",
   "version": "3.11.2"
  }
 },
 "nbformat": 4,
 "nbformat_minor": 5
}
