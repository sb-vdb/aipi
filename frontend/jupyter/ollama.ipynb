{
 "cells": [
  {
   "cell_type": "code",
   "execution_count": 1,
   "id": "e12eb2b5-2250-4aa4-9739-dcbd937fc3e0",
   "metadata": {},
   "outputs": [],
   "source": [
    "import requests\n",
    "import lib"
   ]
  },
  {
   "cell_type": "code",
   "execution_count": 2,
   "id": "068c1f4a-0614-45bc-8cb4-350bd76a2fb3",
   "metadata": {},
   "outputs": [],
   "source": [
    "url = \"http://127.0.0.1:11434/api/generate\""
   ]
  },
  {
   "cell_type": "markdown",
   "id": "1c618ef4-4b93-48d8-a4bc-751af22982b4",
   "metadata": {},
   "source": [
    "### Overview\n",
    "This notebook demonstrates a range of language models available via Ollama (https://github.com/ollama/ollama).\n",
    "Ollama spins up a service that downloads and runs models for you via CLI commands or a dedicated REST API (meaning it can be easily integrated into any web app). Hence, this notebook does not use any dependencies except standard python stuff (HTTP Requests).\n",
    "\n",
    "Which language models can be used depends on their weights' size, since they have to be loaded exhaustively into the system memory. In our case, a Raspberry Pi 5 with 8GB of RAM provides roughly 7GB of memory available to an AI Model. This makes many models with 7bn parameters work - yet not all of them, since their weights' sizes (I came across) vary between 4-9GB."
   ]
  },
  {
   "cell_type": "markdown",
   "id": "179db125-e06a-43d9-a736-e71e59e8af97",
   "metadata": {},
   "source": [
    "### Setup"
   ]
  },
  {
   "cell_type": "markdown",
   "id": "1d272a27-afea-466a-9c98-390932cc51bb",
   "metadata": {},
   "source": [
    "### Demos\n",
    "\n",
    "#### Send simple prompt with a model of choice\n",
    "\n",
    "Browse models available for ollama:\n",
    "https://ollama.com/search"
   ]
  },
  {
   "cell_type": "code",
   "execution_count": 3,
   "id": "b5499479-ebcd-46aa-ad5b-c69d99ade091",
   "metadata": {},
   "outputs": [
    {
     "name": "stdout",
     "output_type": "stream",
     "text": [
      "Here is a brief introduction to Friedrich Schiller (1759-1805):\n",
      "\n",
      "Friedrich Schiller was a German poet, philosopher, and dramatist who played a significant role in shaping the ideals of Romanticism. Born in Marbach an der Neckar, he is best known for his poetry and dramas that explored themes of nature, beauty, and the human condition. His influential works include \"Wallenstein\" (1799) and \"Die Räuber\" (\"The Robbers\", 1782), which showcased his interest in the power of art to shape society and challenge social norms.\n",
      " Query Data:\n",
      "{'model': 'llama3.2', 'created_at': '2025-01-18T17:21:31.647221056Z', 'response': '', 'done': True, 'done_reason': 'stop', 'context': [128006, 9125, 128007, 271, 38766, 1303, 33025, 2696, 25, 6790, 220, 2366, 18, 271, 128009, 128006, 882, 128007, 271, 47530, 264, 1633, 2875, 17219, 311, 41951, 14172, 5817, 15610, 128009, 128006, 78191, 128007, 271, 8586, 374, 264, 10015, 17219, 311, 80474, 5124, 15610, 320, 10005, 24, 12, 5245, 20, 7887, 37, 4588, 14172, 5124, 15610, 574, 264, 6063, 40360, 11, 55475, 11, 323, 13859, 266, 380, 889, 6476, 264, 5199, 3560, 304, 46620, 279, 52805, 315, 76830, 2191, 13, 38916, 304, 2947, 35638, 459, 2761, 44055, 277, 11, 568, 374, 1888, 3967, 369, 813, 32349, 323, 88826, 430, 36131, 22100, 315, 7138, 11, 13444, 11, 323, 279, 3823, 3044, 13, 5414, 32549, 4375, 2997, 330, 33697, 62756, 1, 320, 11128, 24, 8, 323, 330, 18674, 432, 2357, 30970, 1, 3573, 791, 4997, 1941, 498, 220, 11256, 17, 705, 902, 83860, 813, 2802, 304, 279, 2410, 315, 1989, 311, 6211, 8396, 323, 8815, 3674, 40851, 13], 'total_duration': 27399087248, 'load_duration': 27626151, 'prompt_eval_count': 35, 'prompt_eval_duration': 215996000, 'eval_count': 122, 'eval_duration': 27114238000}\n"
     ]
    }
   ],
   "source": [
    "stream = True\n",
    "\n",
    "data = {\n",
    "    \"model\": \"llama3.2\",\n",
    "    \"prompt\": \"give a very short introduction to friedrich schiller\"\n",
    "}\n",
    "result = requests.post(url, json=data, stream=stream)\n",
    "\n",
    "response_to_prompt = lib.extract_response_stream(result) if stream else lib.extract_responses(result)"
   ]
  },
  {
   "cell_type": "markdown",
   "id": "e2e6a4a4-0a26-4092-a420-78bac4bc2b34",
   "metadata": {},
   "source": [
    "#### Send prompt and an image to run the prompt against"
   ]
  },
  {
   "cell_type": "code",
   "execution_count": null,
   "id": "9abdf3c3-f051-40b3-bfa7-9a560786ca09",
   "metadata": {},
   "outputs": [],
   "source": [
    "stream = True\n",
    "\n",
    "data = {\n",
    "    \"model\": \"moondream\",\n",
    "    \"prompt\": \"what life forms can be seen?\",\n",
    "    \"images\": [lib.image_to_base64(\"cat.png\")]\n",
    "}\n",
    "\n",
    "# https://github.com/ollama/ollama/issues/7733\n",
    "result = requests.post(url, json=data, stream=stream)\n",
    "\n",
    "response_to_image = lib.extract_response_stream(result) if stream else lib.extract_responses(result)"
   ]
  }
 ],
 "metadata": {
  "kernelspec": {
   "display_name": "Python 3 (ipykernel)",
   "language": "python",
   "name": "python3"
  },
  "language_info": {
   "codemirror_mode": {
    "name": "ipython",
    "version": 3
   },
   "file_extension": ".py",
   "mimetype": "text/x-python",
   "name": "python",
   "nbconvert_exporter": "python",
   "pygments_lexer": "ipython3",
   "version": "3.11.2"
  }
 },
 "nbformat": 4,
 "nbformat_minor": 5
}
